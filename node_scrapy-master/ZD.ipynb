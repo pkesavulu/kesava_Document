{
 "cells": [
  {
   "cell_type": "code",
   "execution_count": 1,
   "metadata": {},
   "outputs": [],
   "source": [
    "import pandas as pd"
   ]
  },
  {
   "cell_type": "code",
   "execution_count": 2,
   "metadata": {},
   "outputs": [],
   "source": [
    "df = pd.read_csv('/Users/yueyue/Github/node_scrapy/dist/zd.4.csv', sep='\\001')"
   ]
  },
  {
   "cell_type": "code",
   "execution_count": 3,
   "metadata": {},
   "outputs": [],
   "source": [
    "df_1 = df.fillna('null')"
   ]
  },
  {
   "cell_type": "code",
   "execution_count": 4,
   "metadata": {},
   "outputs": [],
   "source": [
    "df_1['extra_1'] = df_1['words'].str.split('◎').str[1]"
   ]
  },
  {
   "cell_type": "code",
   "execution_count": 5,
   "metadata": {},
   "outputs": [],
   "source": [
    "df_1.loc[(df_1['extra']=='null'),'extra'] = df_1.loc[(df_1['extra']=='null'),'extra_1']"
   ]
  },
  {
   "cell_type": "code",
   "execution_count": 6,
   "metadata": {},
   "outputs": [],
   "source": [
    "df_1['words_1'] = df_1['words'].str.split('◎').str[0]"
   ]
  },
  {
   "cell_type": "code",
   "execution_count": 8,
   "metadata": {},
   "outputs": [],
   "source": [
    "import re"
   ]
  },
  {
   "cell_type": "code",
   "execution_count": 20,
   "metadata": {},
   "outputs": [],
   "source": [
    "def filterSite(x):\n",
    "        return re.sub(r'[ZDIC\\.NET|\\(?汉‍典‍網\\)?|【汉‍典‍網】|zdicnet漢网]', '',x, 0 , 1)\n"
   ]
  },
  {
   "cell_type": "code",
   "execution_count": 21,
   "metadata": {},
   "outputs": [
    {
     "data": {
      "text/plain": [
       "0       丁坝　丁册　丁丑　丁村人　丁当　丁当长鸣　丁点儿　丁冬　丁对　丁亥　丁口　丁零　丁零当啷　丁...\n",
       "1       七…八…　七八成　七八成　七病八痛　七长八短　七尺之躯　七大八小　七大洲　七高八低　七绝　七...\n",
       "2       一把手　一把死拿　一把抓　一败涂地　一斑　一般　一般见识　一板三眼　一板一眼　一半　一半　一...\n",
       "3                                                     ull\n",
       "4                                                     ull\n",
       "5                                            丈夫　丈量　丈母娘　丈人\n",
       "6                                                      万俟\n",
       "7       三八　三八妇女节，三八节　三百六十行　三胞胎　三倍　三边形　三不管　三不知　三叉戟　三岔路口...\n",
       "8                                                     ull\n",
       "9                                                     ull\n",
       "10                                                    ull\n",
       "11                                                    ull\n",
       "12      不碍　不安　不安分　不白之冤　不搬陪　不卑不亢　不备　不悖　不比　不必　不避　不变　不便　不...\n",
       "13                                                     上声\n",
       "14      下巴　下巴颏儿　下摆　下班　下半场　下半旗　下半晌　下半天　下半夜　下辈　下辈子　下本儿　下...\n",
       "15                                                    ull\n",
       "16                                                    ull\n",
       "17      丑八怪　丑诋　丑恶　丑化　丑话　丑剧　丑角　丑类　丑陋　丑婆子　丑史　丑时　丑事　丑事外扬　...\n",
       "18                                                    ull\n",
       "19                                         丘八　丘陵　丘墓　丘脑　丘疹\n",
       "20                                                    ull\n",
       "21                                                    ull\n",
       "22                                                    ull\n",
       "23      世弊　世仇　世传　世次　世代　世道　世风　世故　世纪　世纪末　世家　世交　世界　世界观　世界...\n",
       "24                                            丙纶　丙夜　丙种射线,\n",
       "25           丛祠　丛脞　丛集　丛集　丛刊　丛林　丛莽　丛密　丛山　丛生　丛书　丛谈　丛葬　丛冢,,,\n",
       "26      东半球　东半球　东北　东北大鼓　东奔西跑　东奔西撞　东边，东边儿　东部　东不拉　东厂　东抄西...\n",
       "27            业大　业根　业海　业绩　业经　业精于勤　业师　业务　业已　业余　业余教育　业障　业主,\n",
       "28      丝虫　丝虫病　丝绸　丝绸之路　丝带　丝糕　丝瓜　丝光　丝毫　丝绵　丝绒　丝丝入扣　丝弦　丝线...\n",
       "29                                                    ull\n",
       "                              ...                        \n",
       "1545                                                  ull\n",
       "1546    吐翠　吐刚茹柔　吐根　吐故纳新　吐话,吐话儿　吐口　吐露　吐气　吐气扬眉　吐弃　吐绶鸡　吐属...\n",
       "1547                                            吏部　吏胥　吏治　\n",
       "1548    向背　向导　向火　向来　向例　向慕　向暮　向盘　向前　向日　向日葵　向荣　向善　向上　向时　...\n",
       "1549    后摆　后半　后半晌,后半晌儿　后半生　后半夜　后备　后备军　后辈　后步　后部　后场　后车之戒...\n",
       "1550                                                  ull\n",
       "1551                                                  ull\n",
       "1552                                   吕不韦　吕洞宾　吕剧　吕宋　吕宋烟　\n",
       "1553                                                  ull\n",
       "1554                                                  ull\n",
       "1555                                                  ull\n",
       "1556                                                  ull\n",
       "1557                                                  ull\n",
       "1558                                                  ull\n",
       "1559              君侧　君临　君权　君上　君王　君长　君主　君主国　君子　君子兰　君子协定　,,\n",
       "1560                                                  ull\n",
       "1561                                               吠形吠声　,\n",
       "1562    吞并　吞剥　吞服　吞金　吞灭　吞没　吞声　吞声饮气　吞声饮泣　吞食　吞噬　吞吐　吞吞吐吐　吞...\n",
       "1563                                        吝啬　吝啬鬼　吝书　吝惜　\n",
       "1564                                       吟哦　吟风弄月　吟诵　吟游　\n",
       "1565                                                  ull\n",
       "1566                                                  ull\n",
       "1567                                      否定　否决　否决权　否认　否则\n",
       "1568                                                  ull\n",
       "1569                                                  ull\n",
       "1570                                                  吩咐　\n",
       "1571                                                  ull\n",
       "1572                                          吨—公里　吨级　吨位　\n",
       "1573                             吧嗒　吧嗒　吧唧　吧唧　吧女　吧台　,其它字义,\n",
       "1574    含苞　含悲　含贝　含藏　含垢　含垢忍辱　含含糊糊　含恨　含糊　含糊不清　含糊其词　含混　含量...\n",
       "Name: words_1, Length: 1575, dtype: object"
      ]
     },
     "execution_count": 21,
     "metadata": {},
     "output_type": "execute_result"
    }
   ],
   "source": [
    "df_1['words_1'].apply(filterSite)"
   ]
  },
  {
   "cell_type": "code",
   "execution_count": null,
   "metadata": {},
   "outputs": [],
   "source": []
  }
 ],
 "metadata": {
  "kernelspec": {
   "display_name": "Python 3",
   "language": "python",
   "name": "python3"
  },
  "language_info": {
   "codemirror_mode": {
    "name": "ipython",
    "version": 3
   },
   "file_extension": ".py",
   "mimetype": "text/x-python",
   "name": "python",
   "nbconvert_exporter": "python",
   "pygments_lexer": "ipython3",
   "version": "3.5.2"
  }
 },
 "nbformat": 4,
 "nbformat_minor": 2
}
